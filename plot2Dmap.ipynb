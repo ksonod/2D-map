{
 "cells": [
  {
   "cell_type": "markdown",
   "metadata": {},
   "source": [
    "# 2D-map"
   ]
  },
  {
   "cell_type": "markdown",
   "metadata": {},
   "source": [
    "Please prepare your (n x 1) numerical data (**.txt** or **.dat** format). Here, the integer n should be n = m^2, where m is also the integer. This jupyter notebook allows you to convert your (n x 1) data into (m x m) matrix data and to visualize the data as a 2D-map. You need to specify the following things: \n",
    "- Location of your data.\n",
    "- Upper and lower limits for x and y axes.\n",
    "- Type of a color map."
   ]
  },
  {
   "cell_type": "code",
   "execution_count": 1,
   "metadata": {},
   "outputs": [],
   "source": [
    "import numpy as np\n",
    "import pandas as pd\n",
    "import matplotlib.pyplot as plt\n",
    "import math"
   ]
  },
  {
   "cell_type": "markdown",
   "metadata": {},
   "source": [
    "Specify where your data is:"
   ]
  },
  {
   "cell_type": "code",
   "execution_count": 2,
   "metadata": {},
   "outputs": [],
   "source": [
    "path='C:\\\\Users\\\\Documents\\\\Github\\\\sample.dat'"
   ]
  },
  {
   "cell_type": "code",
   "execution_count": 3,
   "metadata": {},
   "outputs": [],
   "source": [
    "dat2d=np.loadtxt(path)"
   ]
  },
  {
   "cell_type": "code",
   "execution_count": 4,
   "metadata": {},
   "outputs": [
    {
     "name": "stdout",
     "output_type": "stream",
     "text": [
      "Data size: 262144 x 1\n",
      "-> 512 x 512 matrix\n"
     ]
    }
   ],
   "source": [
    "datasize=dat2d.shape\n",
    "datasize=datasize[0]\n",
    "print('Data size:' , datasize , 'x 1')\n",
    "\n",
    "m=math.sqrt(datasize) # Determine m for an m x m matrix\n",
    "\n",
    "if m.is_integer()==True:\n",
    "    m=int(m)\n",
    "    dat2d=dat2d.reshape((m,m))\n",
    "    print('->', m , 'x' , m, 'matrix')\n",
    "else:\n",
    "    print('Your data cannot be converted into a square matrix. Please check your data again.')"
   ]
  },
  {
   "cell_type": "markdown",
   "metadata": {},
   "source": [
    "Specify the lower and upper limits for x and y axes. In addition, you can set the type of a color map."
   ]
  },
  {
   "cell_type": "code",
   "execution_count": 13,
   "metadata": {},
   "outputs": [],
   "source": [
    "xmin=160\n",
    "xmax=360\n",
    "ymin=240\n",
    "ymax=270\n",
    "\n",
    "#Perceptually Uniform Sequential\n",
    "cmaps=['viridis', 'plasma', 'inferno', 'magma', 'cividis']\n",
    "\n",
    "color_map = cmaps[0]"
   ]
  },
  {
   "cell_type": "code",
   "execution_count": 14,
   "metadata": {},
   "outputs": [
    {
     "data": {
      "image/png": "[encoded data removed]",
      "text/plain": [
       "<Figure size 432x288 with 1 Axes>"
      ]
     },
     "metadata": {},
     "output_type": "display_data"
    }
   ],
   "source": [
    "plt.pcolormesh(dat2d,cmap=color_map)\n",
    "plt.xlim(xmin,xmax)\n",
    "plt.ylim(ymin,ymax)\n",
    "plt.show()"
   ]
  },
  {
   "cell_type": "code",
   "execution_count": null,
   "metadata": {},
   "outputs": [],
   "source": []
  }
 ],
 "metadata": {
  "kernelspec": {
   "display_name": "Python 3",
   "language": "python",
   "name": "python3"
  },
  "language_info": {
   "codemirror_mode": {
    "name": "ipython",
    "version": 3
   },
   "file_extension": ".py",
   "mimetype": "text/x-python",
   "name": "python",
   "nbconvert_exporter": "python",
   "pygments_lexer": "ipython3",
   "version": "3.6.5"
  },
  "toc": {
   "base_numbering": 1,
   "nav_menu": {},
   "number_sections": true,
   "sideBar": true,
   "skip_h1_title": false,
   "title_cell": "Table of Contents",
   "title_sidebar": "Contents",
   "toc_cell": false,
   "toc_position": {},
   "toc_section_display": true,
   "toc_window_display": true
  }
 },
 "nbformat": 4,
 "nbformat_minor": 2
}
